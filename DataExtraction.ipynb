{
 "cells": [
  {
   "cell_type": "markdown",
   "metadata": {},
   "source": [
    "# Imports"
   ]
  },
  {
   "cell_type": "code",
   "execution_count": 1,
   "metadata": {},
   "outputs": [],
   "source": [
    "import datetime\n",
    "import time\n",
    "import bitfinex\n",
    "import pandas as pd"
   ]
  },
  {
   "cell_type": "markdown",
   "metadata": {},
   "source": [
    "# Fetch and Save Data"
   ]
  },
  {
   "cell_type": "code",
   "execution_count": 2,
   "metadata": {},
   "outputs": [
    {
     "name": "stdout",
     "output_type": "stream",
     "text": [
      "No keys, only access to public API functions\n"
     ]
    }
   ],
   "source": [
    "#https://medium.com/coinmonks/how-to-get-historical-crypto-currency-data-954062d40d2d\n",
    "#https://min-api.cryptocompare.com/\n",
    "#https://towardsdatascience.com/cryptocurrency-price-prediction-using-deep-learning-70cfca50dd3a\n",
    "\n",
    "# Create api instance of the v2 API\n",
    "api_v2 = bitfinex.bitfinex_v2.api_v2()"
   ]
  },
  {
   "cell_type": "code",
   "execution_count": 4,
   "metadata": {},
   "outputs": [
    {
     "name": "stdout",
     "output_type": "stream",
     "text": [
      "No keys, only access to public API functions\n"
     ]
    }
   ],
   "source": [
    "api_v1 = bitfinex.bitfinex_v1.api_v1()\n",
    "pairs = api_v1.symbols()"
   ]
  },
  {
   "cell_type": "code",
   "execution_count": 5,
   "metadata": {},
   "outputs": [],
   "source": [
    "def fetch_data(start, stop, symbol, interval, tick_limit, step):\n",
    "    # Create api instance\n",
    "    api_v2 = bitfinex.bitfinex_v2.api_v2()\n",
    "    data = []\n",
    "    start = start - step\n",
    "    while start < stop:\n",
    "        start = start + step\n",
    "        end = start + step\n",
    "        res = api_v2.candles(symbol=symbol, interval=interval,\n",
    "                             limit=tick_limit, start=start,\n",
    "                            end=end)\n",
    "        data.extend(res)\n",
    "        time.sleep(2)\n",
    "    return data"
   ]
  },
  {
   "cell_type": "code",
   "execution_count": 6,
   "metadata": {},
   "outputs": [
    {
     "name": "stdout",
     "output_type": "stream",
     "text": [
      "No keys, only access to public API functions\n"
     ]
    }
   ],
   "source": [
    "# Set step size\n",
    "time_step = 60000000\n",
    "bin_size = '1m' # This will return minute data\n",
    "limit = 1000    # We want the maximum of 1000 data points \n",
    "# Define the start date \n",
    "t_start = datetime.datetime(2019, 1, 1, 0, 0)\n",
    "t_start = time.mktime(t_start.timetuple()) * 1000\n",
    "# Define the end date\n",
    "t_stop = datetime.datetime(2019, 12, 29, 0, 0)\n",
    "t_stop = time.mktime(t_stop.timetuple()) * 1000\n",
    "pair_data = fetch_data(start=t_start, stop=t_stop, symbol='ethusd',\n",
    "                       interval=bin_size, tick_limit=limit, \n",
    "                       step=time_step)"
   ]
  },
  {
   "cell_type": "code",
   "execution_count": 22,
   "metadata": {},
   "outputs": [],
   "source": [
    "# Create pandas data frame and clean/format data\n",
    "names = ['DateTime', 'Open', 'Close', 'High', 'Low', 'Volume']\n",
    "df = pd.DataFrame(pair_data, columns=names)\n",
    "df['DateTime'] = pd.to_datetime(df['DateTime'], unit='ms').dt.date\n",
    "df.set_index('DateTime', inplace=True)\n",
    "df.sort_index(inplace=True)"
   ]
  },
  {
   "cell_type": "code",
   "execution_count": 23,
   "metadata": {},
   "outputs": [
    {
     "data": {
      "text/html": [
       "<div>\n",
       "<style scoped>\n",
       "    .dataframe tbody tr th:only-of-type {\n",
       "        vertical-align: middle;\n",
       "    }\n",
       "\n",
       "    .dataframe tbody tr th {\n",
       "        vertical-align: top;\n",
       "    }\n",
       "\n",
       "    .dataframe thead th {\n",
       "        text-align: right;\n",
       "    }\n",
       "</style>\n",
       "<table border=\"1\" class=\"dataframe\">\n",
       "  <thead>\n",
       "    <tr style=\"text-align: right;\">\n",
       "      <th></th>\n",
       "      <th>Open</th>\n",
       "      <th>Close</th>\n",
       "      <th>High</th>\n",
       "      <th>Low</th>\n",
       "      <th>Volume</th>\n",
       "    </tr>\n",
       "    <tr>\n",
       "      <th>DateTime</th>\n",
       "      <th></th>\n",
       "      <th></th>\n",
       "      <th></th>\n",
       "      <th></th>\n",
       "      <th></th>\n",
       "    </tr>\n",
       "  </thead>\n",
       "  <tbody>\n",
       "    <tr>\n",
       "      <th>2018-12-31</th>\n",
       "      <td>135.506799</td>\n",
       "      <td>135.506799</td>\n",
       "      <td>135.506799</td>\n",
       "      <td>135.506799</td>\n",
       "      <td>3.902200</td>\n",
       "    </tr>\n",
       "    <tr>\n",
       "      <th>2018-12-31</th>\n",
       "      <td>135.120000</td>\n",
       "      <td>135.120000</td>\n",
       "      <td>135.120000</td>\n",
       "      <td>135.120000</td>\n",
       "      <td>14.195000</td>\n",
       "    </tr>\n",
       "    <tr>\n",
       "      <th>2018-12-31</th>\n",
       "      <td>135.120000</td>\n",
       "      <td>135.120000</td>\n",
       "      <td>135.129706</td>\n",
       "      <td>135.120000</td>\n",
       "      <td>42.883843</td>\n",
       "    </tr>\n",
       "    <tr>\n",
       "      <th>2018-12-31</th>\n",
       "      <td>135.060000</td>\n",
       "      <td>135.120000</td>\n",
       "      <td>135.170000</td>\n",
       "      <td>135.060000</td>\n",
       "      <td>588.071887</td>\n",
       "    </tr>\n",
       "    <tr>\n",
       "      <th>2018-12-31</th>\n",
       "      <td>135.060000</td>\n",
       "      <td>135.070000</td>\n",
       "      <td>135.070000</td>\n",
       "      <td>135.060000</td>\n",
       "      <td>148.302210</td>\n",
       "    </tr>\n",
       "    <tr>\n",
       "      <th>...</th>\n",
       "      <td>...</td>\n",
       "      <td>...</td>\n",
       "      <td>...</td>\n",
       "      <td>...</td>\n",
       "      <td>...</td>\n",
       "    </tr>\n",
       "    <tr>\n",
       "      <th>2019-12-29</th>\n",
       "      <td>135.541512</td>\n",
       "      <td>135.530000</td>\n",
       "      <td>135.541512</td>\n",
       "      <td>135.530000</td>\n",
       "      <td>62.763740</td>\n",
       "    </tr>\n",
       "    <tr>\n",
       "      <th>2019-12-29</th>\n",
       "      <td>135.541512</td>\n",
       "      <td>135.541512</td>\n",
       "      <td>135.541512</td>\n",
       "      <td>135.540000</td>\n",
       "      <td>0.928272</td>\n",
       "    </tr>\n",
       "    <tr>\n",
       "      <th>2019-12-29</th>\n",
       "      <td>135.600000</td>\n",
       "      <td>135.541512</td>\n",
       "      <td>135.700000</td>\n",
       "      <td>135.540000</td>\n",
       "      <td>132.594108</td>\n",
       "    </tr>\n",
       "    <tr>\n",
       "      <th>2019-12-29</th>\n",
       "      <td>135.608562</td>\n",
       "      <td>135.498862</td>\n",
       "      <td>135.608562</td>\n",
       "      <td>135.498862</td>\n",
       "      <td>1.170400</td>\n",
       "    </tr>\n",
       "    <tr>\n",
       "      <th>2019-12-29</th>\n",
       "      <td>129.070000</td>\n",
       "      <td>129.140000</td>\n",
       "      <td>129.140000</td>\n",
       "      <td>129.067728</td>\n",
       "      <td>1.115931</td>\n",
       "    </tr>\n",
       "  </tbody>\n",
       "</table>\n",
       "<p>454665 rows × 5 columns</p>\n",
       "</div>"
      ],
      "text/plain": [
       "                  Open       Close        High         Low      Volume\n",
       "DateTime                                                              \n",
       "2018-12-31  135.506799  135.506799  135.506799  135.506799    3.902200\n",
       "2018-12-31  135.120000  135.120000  135.120000  135.120000   14.195000\n",
       "2018-12-31  135.120000  135.120000  135.129706  135.120000   42.883843\n",
       "2018-12-31  135.060000  135.120000  135.170000  135.060000  588.071887\n",
       "2018-12-31  135.060000  135.070000  135.070000  135.060000  148.302210\n",
       "...                ...         ...         ...         ...         ...\n",
       "2019-12-29  135.541512  135.530000  135.541512  135.530000   62.763740\n",
       "2019-12-29  135.541512  135.541512  135.541512  135.540000    0.928272\n",
       "2019-12-29  135.600000  135.541512  135.700000  135.540000  132.594108\n",
       "2019-12-29  135.608562  135.498862  135.608562  135.498862    1.170400\n",
       "2019-12-29  129.070000  129.140000  129.140000  129.067728    1.115931\n",
       "\n",
       "[454665 rows x 5 columns]"
      ]
     },
     "execution_count": 23,
     "metadata": {},
     "output_type": "execute_result"
    }
   ],
   "source": [
    "df"
   ]
  },
  {
   "cell_type": "code",
   "execution_count": 24,
   "metadata": {},
   "outputs": [],
   "source": [
    "df.to_csv('data.csv')"
   ]
  }
 ],
 "metadata": {
  "kernelspec": {
   "display_name": "Python 3",
   "language": "python",
   "name": "python3"
  },
  "language_info": {
   "codemirror_mode": {
    "name": "ipython",
    "version": 3
   },
   "file_extension": ".py",
   "mimetype": "text/x-python",
   "name": "python",
   "nbconvert_exporter": "python",
   "pygments_lexer": "ipython3",
   "version": "3.7.3"
  }
 },
 "nbformat": 4,
 "nbformat_minor": 2
}
